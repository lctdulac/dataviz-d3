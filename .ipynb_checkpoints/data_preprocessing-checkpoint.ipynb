{
 "cells": [
  {
   "cell_type": "code",
   "execution_count": 1,
   "metadata": {},
   "outputs": [],
   "source": [
    "import pandas as pd"
   ]
  },
  {
   "cell_type": "code",
   "execution_count": 2,
   "metadata": {},
   "outputs": [],
   "source": [
    "def transform_raw_csv_to_daily(path, year):\n",
    "    \n",
    "    csv = pd.read_csv(path, delimiter=\";\", encoding = \"ISO-8859-1\")\n",
    "    csv = csv.dropna()\n",
    "    csv['Date'] = pd.to_datetime(csv['Date'], dayfirst=True)\n",
    "    csv.set_index(csv[\"Date\"],inplace=True)\n",
    "    print(path, \" - \", csv.shape)\n",
    "    \n",
    "    conso_by_day = csv[\"Consommation\"].resample('D').sum()\n",
    "    co2_by_day = csv[\"Taux de Co2\"].resample('D').mean()\n",
    "    conso_df = conso_by_day.to_frame()\n",
    "    conso_df[\"Date\"] = conso_df.index\n",
    "    conso_df[\"Jour\"] = conso_df[\"Date\"].dt.day\n",
    "    conso_df[\"Mois\"] = conso_df[\"Date\"].dt.month\n",
    "    conso_df[\"Année\"] = conso_df[\"Date\"].dt.year\n",
    "    conso_df[\"CO2_moy\"] = co2_by_day\n",
    "    conso_df[\"CO2\"] = conso_df[\"CO2_moy\"]*conso_df[\"Consommation\"]\n",
    "    conso_df.to_csv(\"data/conso_by_day_%i.csv\" % year)\n",
    "    \n",
    "    return conso_df"
   ]
  },
  {
   "cell_type": "code",
   "execution_count": 4,
   "metadata": {},
   "outputs": [
    {
     "name": "stderr",
     "output_type": "stream",
     "text": [
      "/Users/lpregniard/.conda/envs/data_science/lib/python3.7/site-packages/IPython/core/interactiveshell.py:3254: DtypeWarning: Columns (18,19,20,21,22) have mixed types. Specify dtype option on import or set low_memory=False.\n",
      "  if (await self.run_code(code, result,  async_=asy)):\n",
      "/Users/lpregniard/.conda/envs/data_science/lib/python3.7/site-packages/IPython/core/interactiveshell.py:3254: DtypeWarning: Columns (18,19,20,21,22,23,24,25,26,27,28,29,30,31,32,33,34,35) have mixed types. Specify dtype option on import or set low_memory=False.\n",
      "  if (await self.run_code(code, result,  async_=asy)):\n"
     ]
    },
    {
     "name": "stdout",
     "output_type": "stream",
     "text": [
      "data/edf_mix_2012.csv  -  (17249, 36)\n",
      "data/edf_mix_2013.csv  -  (17495, 36)\n",
      "data/edf_mix_2014.csv  -  (17519, 36)\n"
     ]
    }
   ],
   "source": [
    "paths = ['data/edf_mix_2012.csv',\n",
    "         'data/edf_mix_2013.csv',\n",
    "         'data/edf_mix_2014.csv']\n",
    "\n",
    "years = [2012, 2013, 2014]\n",
    "\n",
    "csvs = []\n",
    "\n",
    "for p, y in zip(paths, years):\n",
    "    csvs.append(transform_raw_csv_to_daily(p, y))\n",
    "    \n",
    "pd.concat(csvs).to_csv(\"conso_by_day_total.csv\")"
   ]
  },
  {
   "cell_type": "code",
   "execution_count": null,
   "metadata": {},
   "outputs": [],
   "source": []
  }
 ],
 "metadata": {
  "kernelspec": {
   "display_name": "Python (data_science)",
   "language": "python",
   "name": "data_science"
  },
  "language_info": {
   "codemirror_mode": {
    "name": "ipython",
    "version": 3
   },
   "file_extension": ".py",
   "mimetype": "text/x-python",
   "name": "python",
   "nbconvert_exporter": "python",
   "pygments_lexer": "ipython3",
   "version": "3.7.4"
  }
 },
 "nbformat": 4,
 "nbformat_minor": 2
}
